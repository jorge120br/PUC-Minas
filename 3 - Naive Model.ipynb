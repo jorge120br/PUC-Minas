{
 "cells": [
  {
   "cell_type": "code",
   "execution_count": null,
   "id": "spiritual-tactics",
   "metadata": {},
   "outputs": [],
   "source": [
    "import pandas as pd\n",
    "import numpy as np\n",
    "from matplotlib import pyplot as plt\n",
    "from pandas import DataFrame\n",
    "from pandas import concat\n",
    "\n",
    "from math import sqrt\n",
    "from sklearn.metrics import mean_squared_error\n",
    "from sklearn.metrics import mean_absolute_error\n",
    "from sklearn.metrics import mean_absolute_percentage_error\n",
    "from sklearn.metrics import r2_score\n",
    "\n",
    "from statsmodels.tsa.ar_model import AutoReg\n",
    "\n",
    "import seaborn as sns\n",
    "sns.set()\n",
    "\n",
    "import warnings\n",
    "warnings.filterwarnings('ignore')\n",
    "\n",
    "plt.rcParams.update({'figure.figsize':(16,3), 'figure.dpi':100})"
   ]
  },
  {
   "cell_type": "code",
   "execution_count": null,
   "id": "rational-syndication",
   "metadata": {},
   "outputs": [],
   "source": [
    "series = pd.read_excel('spare-parts-sales.xlsx', header=0, names=['item', 'sales', 'cost', 'date'], index_col=None, parse_dates=True, squeeze=True)\n",
    "\n",
    "series['date'] = pd.to_datetime(series['date'])\n",
    "date_filter = (series['date'] >= '2014-01-01') & (series['date'] <= '2016-11-30')\n",
    "series = series[date_filter]\n",
    "\n",
    "sku = '98550154'\n",
    "series = series[series.item == sku]\n",
    "\n",
    "series.drop(series.columns[[0, 2]], axis=1, inplace=True)"
   ]
  },
  {
   "cell_type": "code",
   "execution_count": null,
   "id": "sealed-start",
   "metadata": {},
   "outputs": [],
   "source": [
    "series = (series.groupby(pd.Grouper(key='date',freq='w')).sum())"
   ]
  },
  {
   "cell_type": "code",
   "execution_count": null,
   "id": "adolescent-theory",
   "metadata": {},
   "outputs": [],
   "source": [
    "# criar o dataset com Lags\n",
    "values = DataFrame(series.values)\n",
    "dataframe = concat([values.shift(1), values], axis=1)\n",
    "dataframe.columns = ['t', 't+1']\n",
    "\n",
    "# Dividir em conjuntos de treinamento e teste\n",
    "X = dataframe.values\n",
    "train_size = int(len(X) * 0.66)\n",
    "train, test = X[0:train_size], X[train_size:]\n",
    "train_X, train_y = train[:,0], train[:,1]\n",
    "test_X, test_y = test[:,0], test[:,1]\n",
    "\n",
    "# naive model\n",
    "def model_naive(x):\n",
    "    return x"
   ]
  },
  {
   "cell_type": "code",
   "execution_count": null,
   "id": "dimensional-behavior",
   "metadata": {},
   "outputs": [],
   "source": [
    "# validação walk-forward\n",
    "predictions = list()\n",
    "for x in test_X:\n",
    "    yhat = model_naive(x)\n",
    "    predictions.append(yhat)"
   ]
  },
  {
   "cell_type": "code",
   "execution_count": null,
   "id": "considerable-youth",
   "metadata": {
    "scrolled": true
   },
   "outputs": [],
   "source": [
    "# Avaliação do Modelo\n",
    "MAPE = mean_absolute_percentage_error(test_y, predictions)\n",
    "MAE = mean_absolute_error(test_y, predictions)\n",
    "MSE = mean_squared_error(test_y, predictions)\n",
    "R2 = r2_score(test_y,predictions)\n",
    "accuracy = 100 - MAPE\n",
    "print('Performance do Modelo')\n",
    "print('----------------------------')\n",
    "#print('Coeficiente de Determinação: {:0.2}.'.format(R2))\n",
    "print('Acurácia = {:0.2f} %.'.format(accuracy))\n",
    "print('MAPE = {:0.2f} %.'.format(MAPE))\n",
    "print('MAE = {:0.2f} Unidades.'.format(MAE))\n",
    "print('MSE = {:0.2f}.'.format(MSE))\n",
    "print('RMSE = {:0.2f}.'.format(sqrt(MSE)))"
   ]
  },
  {
   "cell_type": "code",
   "execution_count": null,
   "id": "fuzzy-bubble",
   "metadata": {},
   "outputs": [],
   "source": [
    "# Avaliação dos Resíduos\n",
    "residuals = [test_y[i]-predictions[i] for i in range(len(predictions))]\n",
    "residuals = DataFrame(residuals)\n",
    "print(residuals.describe())"
   ]
  },
  {
   "cell_type": "code",
   "execution_count": null,
   "id": "outer-output",
   "metadata": {},
   "outputs": [],
   "source": [
    "# Gráfico com os valores de treino e teste\n",
    "original=np.concatenate((train_X, test_X), axis=0)\n",
    "plt.plot(original, label='Original')\n",
    "x = range((len(train_X)), (len(original)))\n",
    "plt.plot(x, predictions, label='Predicted')\n",
    "plt.title('Vendas de Peças de Reposição de 2014 a 2016')\n",
    "plt.xlabel('Meses')\n",
    "plt.ylabel('Quantidade Vendas')\n",
    "plt.legend(loc='best')\n",
    "plt.show()"
   ]
  }
 ],
 "metadata": {
  "kernelspec": {
   "display_name": "Python 3",
   "language": "python",
   "name": "python3"
  },
  "language_info": {
   "codemirror_mode": {
    "name": "ipython",
    "version": 3
   },
   "file_extension": ".py",
   "mimetype": "text/x-python",
   "name": "python",
   "nbconvert_exporter": "python",
   "pygments_lexer": "ipython3",
   "version": "3.6.12"
  }
 },
 "nbformat": 4,
 "nbformat_minor": 5
}
