{
 "cells": [
  {
   "cell_type": "code",
   "execution_count": null,
   "metadata": {},
   "outputs": [],
   "source": [
    "import pandas as pd\n",
    "import matplotlib.pyplot as plt\n",
    "\n",
    "import seaborn as sns\n",
    "sns.set()\n",
    "\n",
    "from statsmodels.tsa.stattools import adfuller\n",
    "from statsmodels.tsa.seasonal import seasonal_decompose  \n",
    "from statsmodels.graphics.tsaplots import plot_acf, plot_pacf\n",
    "\n",
    "plt.rcParams.update({'figure.figsize':(16,3), 'figure.dpi':100})"
   ]
  },
  {
   "cell_type": "code",
   "execution_count": null,
   "metadata": {},
   "outputs": [],
   "source": [
    "# Leitura do arquivo Excel\n",
    "series = pd.read_excel('spare-parts-sales.xlsx', header=0, \n",
    "                       names=['item', 'sales', 'cost', 'date'], index_col=None, parse_dates=True, squeeze=True)\n",
    "\n",
    "# Filtra o arquivo para os anos de 2014 a 2016\n",
    "series['date'] = pd.to_datetime(series['date'])\n",
    "date_filter = (series['date'] >= '2014-01-01') & (series['date'] <= '2016-11-30')\n",
    "series = series[date_filter]\n",
    "\n",
    "# Filtra para o item '98550154' (óleo de motor)\n",
    "sku = '98550154'\n",
    "series = series[series.item == sku]\n",
    "\n",
    "# Exclui a coluna item e cost\n",
    "series.drop(series.columns[[0, 2]], axis=1, inplace=True)\n",
    "\n",
    "# Transforma para vendas semanais\n",
    "series = (series.groupby(pd.Grouper(key='date',freq='W')).sum()).reset_index()"
   ]
  },
  {
   "cell_type": "code",
   "execution_count": null,
   "metadata": {},
   "outputs": [],
   "source": [
    "# Função para cálculo do teste de Dickey-Fuller\n",
    "def adf_test(timeseries):\n",
    "    print ('Results of Dickey-Fuller Test:')\n",
    "    print('Null Hypothesis: Unit Root Present')\n",
    "    print('Test Statistic < Critical Value => Reject Null')\n",
    "    print('P-Value =< Alpha(.05) => Reject Null\\n')\n",
    "    dftest = adfuller(timeseries, autolag='AIC')\n",
    "    dfoutput = pd.Series(dftest[0:4], index=['Test Statistic','p-value','#Lags Used','Number of Observations Used'])\n",
    "    for key,value in dftest[4].items():\n",
    "        dfoutput[f'Critical Value {key}'] = value\n",
    "    print (dfoutput, '\\n')\n",
    "    \n",
    "# Função para autocorrelação e autocorrelação parcial\n",
    "def plot_acf_pacf(timeseries, lags):\n",
    "    fig, axes = plt.subplots(1,2,figsize=(16,3), dpi= 100)\n",
    "    plot_acf(timeseries.tolist(), lags=lags, ax=axes[0])\n",
    "    plot_pacf(timeseries.tolist(), lags=lags, ax=axes[1])"
   ]
  },
  {
   "cell_type": "code",
   "execution_count": null,
   "metadata": {},
   "outputs": [],
   "source": [
    "media_movel = series['sales'].rolling(window=4).mean() # Cálculo da Média Móvel\n",
    "desvio_movel = series['sales'].rolling(window=4).std() # Cálculo do Desvio Móvel\n",
    "orig = plt.plot(series['sales'], color='blue', label='Observado') # Gráfico com Valores Originais\n",
    "media = plt.plot(media_movel, color='red', label='Média Móvel') # Gráfico da Média Móvel\n",
    "desvio = plt.plot(desvio_movel, color='black', label='Desvio Padrão Móvel') # Gráfico do Desvio Móvel\n",
    "plt.legend(loc='best')\n",
    "plt.title('Estatísticas de rolagem')\n",
    "plt.show(block=False)"
   ]
  },
  {
   "cell_type": "code",
   "execution_count": null,
   "metadata": {},
   "outputs": [],
   "source": [
    "# Chamada para o teste de Dickey-Fuller\n",
    "adf_test(series['sales'])"
   ]
  },
  {
   "cell_type": "code",
   "execution_count": null,
   "metadata": {},
   "outputs": [],
   "source": [
    "# Gráfico de autocorrelação e autocorrelação parcial\n",
    "plot_acf_pacf(series['sales'], 16)"
   ]
  },
  {
   "cell_type": "code",
   "execution_count": null,
   "metadata": {},
   "outputs": [],
   "source": [
    "# Diferenciação para verificar se a série será estacionária\n",
    "series_diff = (series['sales'] - series['sales'].shift(1)).dropna()"
   ]
  },
  {
   "cell_type": "code",
   "execution_count": null,
   "metadata": {},
   "outputs": [],
   "source": [
    "media_movel = series_diff.rolling(window=4).mean() # Cálculo da Média Móvel\n",
    "desvio_movel = series_diff.rolling(window=4).std() # Cálculo do Desvio Móvel\n",
    "orig = plt.plot(series_diff, color='blue', label='Diferenciação') # Gráfico com Valores Diferenciados\n",
    "media = plt.plot(media_movel, color='red', label='Média Móvel') # Gráfico da Média Móvel\n",
    "desvio = plt.plot(desvio_movel, color='black', label='Desvio Padrão Móvel') # Gráfico do Desvio Móvel\n",
    "plt.legend(loc='best')\n",
    "plt.title('Estatísticas de rolagem')\n",
    "plt.show(block=False)"
   ]
  },
  {
   "cell_type": "code",
   "execution_count": null,
   "metadata": {},
   "outputs": [],
   "source": [
    "# Chamada para o teste de Dickey-Fuller\n",
    "adf_test(series_diff)"
   ]
  },
  {
   "cell_type": "code",
   "execution_count": null,
   "metadata": {},
   "outputs": [],
   "source": [
    "plt.rc(\"figure\", figsize=(16,8))\n",
    "result = seasonal_decompose(series_diff, period=1)  \n",
    "result.plot()  \n",
    "plt.show()"
   ]
  }
 ],
 "metadata": {
  "kernelspec": {
   "display_name": "Python 3",
   "language": "python",
   "name": "python3"
  },
  "language_info": {
   "codemirror_mode": {
    "name": "ipython",
    "version": 3
   },
   "file_extension": ".py",
   "mimetype": "text/x-python",
   "name": "python",
   "nbconvert_exporter": "python",
   "pygments_lexer": "ipython3",
   "version": "3.6.12"
  }
 },
 "nbformat": 4,
 "nbformat_minor": 4
}
