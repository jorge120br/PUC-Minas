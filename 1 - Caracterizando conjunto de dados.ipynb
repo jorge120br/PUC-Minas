{
 "cells": [
  {
   "cell_type": "code",
   "execution_count": null,
   "id": "color-insider",
   "metadata": {},
   "outputs": [],
   "source": [
    "import pandas as pd\n",
    "import matplotlib.pyplot as plt\n",
    "\n",
    "import seaborn as sns\n",
    "sns.set()\n",
    "\n",
    "plt.rcParams.update({'figure.figsize':(16,3), 'figure.dpi':100})"
   ]
  },
  {
   "cell_type": "code",
   "execution_count": null,
   "id": "lesbian-elimination",
   "metadata": {},
   "outputs": [],
   "source": [
    "# Leitura do arquivo Excel\n",
    "series = pd.read_excel('spare-parts-sales.xlsx', header=0, \n",
    "                       names=['item', 'sales', 'cost', 'date'], index_col=None, parse_dates=True, squeeze=True)\n",
    "\n",
    "# Filtra o arquivo para os anos de 2014 a 2016\n",
    "series['date'] = pd.to_datetime(series['date'])\n",
    "date_filter = (series['date'] >= '2014-01-01') & (series['date'] <= '2016-11-30')\n",
    "series = series[date_filter]\n",
    "\n",
    "# Filtra para o item '98550154' (óleo de motor)\n",
    "sku = '98550154'\n",
    "series = series[series.item == sku]\n",
    "\n",
    "# Exclui a coluna item e cost\n",
    "series.drop(series.columns[[0, 2]], axis=1, inplace=True)\n",
    "\n",
    "# Transforma para vendas semanais\n",
    "series = (series.groupby(pd.Grouper(key='date',freq='W')).sum()).reset_index()"
   ]
  },
  {
   "cell_type": "code",
   "execution_count": null,
   "id": "confused-reader",
   "metadata": {},
   "outputs": [],
   "source": [
    "# Função para caracterizar o dataframe\n",
    "def caract_dados(data):\n",
    "    # Quantidade de registros\n",
    "    print('Data Size: ', data.size, '\\n')\n",
    "    # Resumo do Dataframe\n",
    "    print('Data Info:')\n",
    "    print(data.info(), '\\n')\n",
    "    # Rótulos das colunas\n",
    "    print('Data Columns:')\n",
    "    print(data.columns, '\\n')\n",
    "    # Primeiras 5 linhas do Dataframe\n",
    "    print('Primeiras linhas do Dataframe:')\n",
    "    print(data.head(), '\\n')\n",
    "    # Dimensionalidade do Dataframe\n",
    "    print('Data Shape:')\n",
    "    print(data.shape, '\\n')\n",
    "    # Estatísticas descritivas\n",
    "    print('Estatísticas Descritivas:')\n",
    "    print(data.describe(), '\\n')\n",
    "    # Detecção de valores ausentes\n",
    "    print('Registros Nulos:')\n",
    "    print(data.isnull().sum(), '\\n')"
   ]
  },
  {
   "cell_type": "code",
   "execution_count": null,
   "id": "awful-sustainability",
   "metadata": {},
   "outputs": [],
   "source": [
    "caract_dados(series)"
   ]
  },
  {
   "cell_type": "code",
   "execution_count": null,
   "id": "clinical-somewhere",
   "metadata": {},
   "outputs": [],
   "source": [
    "# Função para visualização gráfica\n",
    "def plot_df(df, x, y, title=\"\", xlabel='Data', ylabel='Vendas', dpi=100):\n",
    "    plt.figure(figsize=(15,4), dpi=dpi)\n",
    "    plt.plot(x, y, color='tab:blue')\n",
    "    plt.gca().set(title=title, xlabel=xlabel, ylabel=ylabel)\n",
    "    plt.show()"
   ]
  },
  {
   "cell_type": "code",
   "execution_count": null,
   "id": "cleared-compression",
   "metadata": {},
   "outputs": [],
   "source": [
    "# Visualização dos dados ao longo do tempo.\n",
    "plot_df(series, x=series['date'], y=series['sales'], title='Vendas de Peças de 2014 a 2016')"
   ]
  },
  {
   "cell_type": "code",
   "execution_count": null,
   "id": "enormous-title",
   "metadata": {},
   "outputs": [],
   "source": [
    "fig, ax = plt.subplots(figsize=(10, 5))\n",
    "sns.histplot(series['sales'], kde=True)\n",
    "plt.title('Venda de Peças de Reposição', fontsize=20)\n",
    "plt.xlabel('Quantidade de Vendas')\n",
    "plt.ylabel('Frequência Absoluta')\n",
    "plt.show()"
   ]
  },
  {
   "cell_type": "code",
   "execution_count": null,
   "id": "satisfactory-cemetery",
   "metadata": {},
   "outputs": [],
   "source": []
  }
 ],
 "metadata": {
  "kernelspec": {
   "display_name": "Python 3",
   "language": "python",
   "name": "python3"
  },
  "language_info": {
   "codemirror_mode": {
    "name": "ipython",
    "version": 3
   },
   "file_extension": ".py",
   "mimetype": "text/x-python",
   "name": "python",
   "nbconvert_exporter": "python",
   "pygments_lexer": "ipython3",
   "version": "3.6.12"
  }
 },
 "nbformat": 4,
 "nbformat_minor": 5
}
