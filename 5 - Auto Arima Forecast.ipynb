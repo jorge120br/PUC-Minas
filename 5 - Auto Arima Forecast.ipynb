{
 "cells": [
  {
   "cell_type": "code",
   "execution_count": null,
   "id": "renewable-burden",
   "metadata": {},
   "outputs": [],
   "source": [
    "import numpy as np \n",
    "import pandas as pd\n",
    "import matplotlib.pyplot as plt\n",
    "from pandas import DataFrame\n",
    "from statsmodels.tsa.arima_model import ARIMA\n",
    "import pmdarima as pm\n",
    "\n",
    "from math import sqrt\n",
    "from sklearn.metrics import mean_squared_error\n",
    "from sklearn.metrics import mean_absolute_error\n",
    "from sklearn.metrics import mean_absolute_percentage_error\n",
    "from sklearn.metrics import r2_score\n",
    "\n",
    "import seaborn as sns\n",
    "sns.set()\n",
    "\n",
    "import warnings\n",
    "warnings.filterwarnings('ignore')\n",
    "\n",
    "plt.rcParams.update({'figure.figsize':(16,3), 'figure.dpi':100})"
   ]
  },
  {
   "cell_type": "code",
   "execution_count": null,
   "id": "choice-spain",
   "metadata": {},
   "outputs": [],
   "source": [
    "series = pd.read_excel('spare-parts-sales.xlsx', header=0, names=['item', 'sales', 'cost', 'date'], index_col=None, parse_dates=True, squeeze=True)\n",
    "\n",
    "series['date'] = pd.to_datetime(series['date'])\n",
    "date_filter = (series['date'] >= '2014-01-01') & (series['date'] <= '2016-11-30')\n",
    "series = series[date_filter]\n",
    "\n",
    "sku = '98550154'\n",
    "series = series[series.item == sku]\n",
    "\n",
    "series.drop(series.columns[[0, 2]], axis=1, inplace=True)"
   ]
  },
  {
   "cell_type": "code",
   "execution_count": null,
   "id": "narrow-supply",
   "metadata": {},
   "outputs": [],
   "source": [
    "series = (series.groupby(pd.Grouper(key='date',freq='w')).sum()).reset_index()"
   ]
  },
  {
   "cell_type": "code",
   "execution_count": null,
   "id": "according-baker",
   "metadata": {},
   "outputs": [],
   "source": [
    "# Tratando a sazonalidade com diferenciação da série\n",
    "series_diff = series['sales'] - series['sales'].diff()"
   ]
  },
  {
   "cell_type": "code",
   "execution_count": null,
   "id": "large-pathology",
   "metadata": {},
   "outputs": [],
   "source": [
    "# Dividir em conjuntos de treinamento e teste\n",
    "train_size = int(len(series_diff) * 0.66)\n",
    "train, test = series_diff[0:train_size], series_diff[train_size:]\n",
    "train = train.dropna()\n",
    "test = test.dropna()"
   ]
  },
  {
   "cell_type": "code",
   "execution_count": null,
   "id": "prostate-carbon",
   "metadata": {
    "scrolled": false
   },
   "outputs": [],
   "source": [
    "# Ajustando os parâmetros com auto arima\n",
    "model = pm.auto_arima(train, start_p=0, d=1, start_q=0, test=(\"kpss\", \"adf\"), max_p=5, max_q=5, m=52, start_P=0,\n",
    "                      D=1, start_Q=0, max_P=5, max_D=5, max_Q=5, stepwise = True, trace=True,\n",
    "                      error_action='ignore', suppress_warnings=True,  random_state=20, n_fits=50)"
   ]
  },
  {
   "cell_type": "code",
   "execution_count": null,
   "id": "human-inclusion",
   "metadata": {},
   "outputs": [],
   "source": [
    "# Executando as previsões\n",
    "predictions = pd.DataFrame(model.predict(n_periods = int(len(test))), index=test.index)\n",
    "predictions.columns = ['prediction_sales']"
   ]
  },
  {
   "cell_type": "code",
   "execution_count": null,
   "id": "introductory-worst",
   "metadata": {},
   "outputs": [],
   "source": [
    "# Avaliação do Modelo\n",
    "MAPE = mean_absolute_percentage_error(test, predictions)\n",
    "MAE = mean_absolute_error(test, predictions)\n",
    "MSE = mean_squared_error(test, predictions)\n",
    "R2 = r2_score(test,predictions)\n",
    "accuracy = 100 - MAPE\n",
    "print('Performance do Modelo')\n",
    "print('----------------------------')\n",
    "#print('Coeficiente de Determinação: {:0.2}.'.format(R2))\n",
    "print('Acurácia = {:0.2f} %.'.format(accuracy))\n",
    "print('MAPE = {:0.2f} %.'.format(MAPE))\n",
    "print('MAE = {:0.2f} Unidades.'.format(MAE))\n",
    "print('MSE = {:0.2f}.'.format(MSE))\n",
    "print('RMSE = {:0.2f}.'.format(sqrt(MSE)))"
   ]
  },
  {
   "cell_type": "code",
   "execution_count": null,
   "id": "descending-commonwealth",
   "metadata": {},
   "outputs": [],
   "source": [
    "residuals = [test.values[i]-predictions.values[i] for i in range(len(predictions))]\n",
    "residuals = DataFrame(residuals)\n",
    "print('Descrição dos Resíduos')\n",
    "print(residuals.describe())"
   ]
  },
  {
   "cell_type": "code",
   "execution_count": null,
   "id": "naughty-grade",
   "metadata": {},
   "outputs": [],
   "source": [
    "plt.plot(series['sales'], label='Original')\n",
    "plt.plot(predictions, label='Predicted')\n",
    "plt.legend(loc='best')\n",
    "plt.show()"
   ]
  },
  {
   "cell_type": "code",
   "execution_count": null,
   "id": "civilian-meditation",
   "metadata": {},
   "outputs": [],
   "source": []
  }
 ],
 "metadata": {
  "kernelspec": {
   "display_name": "Python 3",
   "language": "python",
   "name": "python3"
  },
  "language_info": {
   "codemirror_mode": {
    "name": "ipython",
    "version": 3
   },
   "file_extension": ".py",
   "mimetype": "text/x-python",
   "name": "python",
   "nbconvert_exporter": "python",
   "pygments_lexer": "ipython3",
   "version": "3.6.12"
  }
 },
 "nbformat": 4,
 "nbformat_minor": 5
}
